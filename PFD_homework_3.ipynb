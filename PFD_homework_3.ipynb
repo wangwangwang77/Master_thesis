{
  "cells": [
    {
      "cell_type": "markdown",
      "metadata": {
        "id": "view-in-github",
        "colab_type": "text"
      },
      "source": [
        "<a href=\"https://colab.research.google.com/github/wangwangwang77/Master_thesis/blob/main/PFD_homework_3.ipynb\" target=\"_parent\"><img src=\"https://colab.research.google.com/assets/colab-badge.svg\" alt=\"Open In Colab\"/></a>"
      ]
    },
    {
      "cell_type": "code",
      "execution_count": 1,
      "id": "46ef425e",
      "metadata": {
        "id": "46ef425e"
      },
      "outputs": [],
      "source": [
        "import math\n",
        "import random\n",
        "import numpy as np\n",
        "import seaborn as sns\n",
        "import matplotlib.pyplot as plt\n",
        "import matplotlib._color_data as mcd\n",
        "import matplotlib.patches as mpatch\n",
        "from scipy.stats import norm\n",
        "import scipy.stats as ss\n",
        "from functools import reduce"
      ]
    },
    {
      "cell_type": "code",
      "source": [
        "def BlackScholes(F0, K, sigma, T, r=0):\n",
        "    d1 = (np.log(F0 / K) + sigma**2 / 2 * T) / (sigma * np.sqrt(T))\n",
        "    d2 = d1 - sigma * np.sqrt(T)\n",
        "    BSprice = np.exp(-r * T) * (F0 *  ss.norm.cdf(d1) - K * ss.norm.cdf(d2))\n",
        "    return(BSprice)\n",
        "\n",
        "def mcOptionPrice(T, m, F0, K,sigma_0,rho= -0.5, gamma=0.3, theta=0.09, ka=1,n=5000,r=0):\n",
        "    OptionPrice = 0\n",
        "    for i in range(0,m):\n",
        "        Z1 = Z[i,]\n",
        "        Z2 = Z1*np.sqrt(T/n)\n",
        "        W2 = np.zeros(n+1)\n",
        "        W2[1:n+1] = np.cumsum(Z2)\n",
        "        df_W2 = np.diff(W2)\n",
        "        sigma = np.zeros(n+1)\n",
        "        sigma[0] = sigma_0\n",
        "        for j in range(1,n+1):\n",
        "            a = sigma[j-1]**2+ka*(theta-sigma[j-1]**2)*T/n + gamma * sigma[j-1]*df_W2[j-1]\n",
        "            if (a>0): sigma[j] = np.sqrt(a)\n",
        "            else: sigma[j] = 0\n",
        "        # stochastic volatility compute from the GBM from 0 to T\n",
        "        # integral approximation as finite sums\n",
        "        deterministic_integral = np.sum(sigma[0:-1]**2)* T / n       # 1/n := constant time step, then 1/n = t(i+1)-t(i) for all i\n",
        "        stochastic_integral    = np.dot(sigma[0:-1],np.diff(W2))   \n",
        "        ksi_0 = np.exp(rho * stochastic_integral - 0.5 * rho**2 * deterministic_integral)    \n",
        "        sigma_rho = np.sqrt(1/T * (1-rho**2) * deterministic_integral)\n",
        "        OptionPrice += BlackScholes(F0 * ksi_0, K, sigma_rho, T)/m    \n",
        "    return(OptionPrice)\n",
        "\n",
        "\n"
      ],
      "metadata": {
        "id": "OW2MlSXM-YhG"
      },
      "id": "OW2MlSXM-YhG",
      "execution_count": 2,
      "outputs": []
    },
    {
      "cell_type": "code",
      "source": [
        " n = 5000\n",
        " m = 2000\n",
        " Z = np.random.normal(0,1,[m,n])\n",
        " T = 1\n",
        " F0 = 100\n",
        " K = 100\n",
        " sigma_0 = 0.2\n",
        " mcOptionPrice(T, m, F0, K,sigma_0)"
      ],
      "metadata": {
        "colab": {
          "base_uri": "https://localhost:8080/"
        },
        "id": "yQQLZVn7DU9C",
        "outputId": "5f40dba7-1aea-486e-b20b-9d6b1b3d433f"
      },
      "id": "yQQLZVn7DU9C",
      "execution_count": 6,
      "outputs": [
        {
          "output_type": "execute_result",
          "data": {
            "text/plain": [
              "9.161096418330192"
            ]
          },
          "metadata": {},
          "execution_count": 6
        }
      ]
    }
  ],
  "metadata": {
    "kernelspec": {
      "display_name": "Python 3 (ipykernel)",
      "language": "python",
      "name": "python3"
    },
    "language_info": {
      "codemirror_mode": {
        "name": "ipython",
        "version": 3
      },
      "file_extension": ".py",
      "mimetype": "text/x-python",
      "name": "python",
      "nbconvert_exporter": "python",
      "pygments_lexer": "ipython3",
      "version": "3.9.7"
    },
    "colab": {
      "name": "PFD_homework_3.ipynb",
      "provenance": [],
      "include_colab_link": true
    }
  },
  "nbformat": 4,
  "nbformat_minor": 5
}