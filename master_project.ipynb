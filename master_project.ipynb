{
  "cells": [
    {
      "cell_type": "markdown",
      "metadata": {
        "id": "view-in-github",
        "colab_type": "text"
      },
      "source": [
        "<a href=\"https://colab.research.google.com/github/wangwangwang77/Master_thesis/blob/main/master_project.ipynb\" target=\"_parent\"><img src=\"https://colab.research.google.com/assets/colab-badge.svg\" alt=\"Open In Colab\"/></a>"
      ]
    },
    {
      "cell_type": "code",
      "execution_count": null,
      "id": "46ef425e",
      "metadata": {
        "id": "46ef425e"
      },
      "outputs": [],
      "source": [
        "import math\n",
        "import random\n",
        "import numpy as np\n",
        "import seaborn as sns\n",
        "import matplotlib.pyplot as plt\n",
        "import matplotlib._color_data as mcd\n",
        "import matplotlib.patches as mpatch\n",
        "from scipy.stats import norm\n",
        "import scipy.stats as ss\n",
        "from functools import reduce\n",
        "from time import time\n",
        "from scipy import optimize"
      ]
    },
    {
      "cell_type": "markdown",
      "source": [
        "##Heston Model\n",
        "The Heston Model is a stochastic volatility model whose time evolution is given by the following system of stochastic differential equations:\n",
        "$$dS_{t}=rS_{t}dt+\\sigma_{t}S_{t}dZ_{t} $$ \n",
        "$$d\\sigma_{t}^{2}=\\kappa(\\theta-\\sigma_{t}^{2})dt+\\nu\\sqrt{\\sigma_{t}^{2}}dB_{t}$$\n",
        "$\\rho\\neq0$ denotes the correlation parameter between Brownian motion $Z$ and $B$. In our simulation, we assume $r=0$. \n",
        "We rewrite $Z_{t}$ as:\n",
        "$$Z_{t}=\\sqrt{1-\\rho^{2}}B_{t}+\\rho W_{t}$$\n",
        "where $B_{t}$ and $Z_{t}$ are independent brownian motion and the Heston Model can be written as:\n",
        "$$dS_{t}=S_{t}\\sigma_{t}(\\sqrt{1-\\rho^{2}}B_{t}+\\rho W_{t})$$"
      ],
      "metadata": {
        "id": "404giFHjwkmY"
      },
      "id": "404giFHjwkmY"
    },
    {
      "cell_type": "markdown",
      "source": [
        "#Crude Monte Carlo\n",
        "We implement discretization schemes for both the stock and the volatility. Thess dynamics looks as follows:\n",
        "\\begin{align*}\n",
        "\\sigma_{i}^{2}&=\\kappa(\\theta-\\sigma_{i}^{2})\\Delta t+\\xi\\sqrt{\\sigma_{i-1}^{2}}\\Delta W\\\\\n",
        "S_{i}&=S_{i-1}+\\sqrt{\\sigma_{i-1}^{2}}S_{i-1}(\\sqrt{1-\\rho^{2}}\\Delta B+\\rho\\Delta W)\n",
        "\\end{align*}\n",
        "We want to find the call option price:\n",
        "$$E[\\max(S_{T}-K)]$$\n",
        "\n",
        "\n",
        "\n",
        "\n"
      ],
      "metadata": {
        "id": "P2fj3iySp73y"
      },
      "id": "P2fj3iySp73y"
    },
    {
      "cell_type": "code",
      "source": [
        "from scipy.stats import norm\n",
        "def cmcOptionPrice(T, m, F0, K,sigma_0,rho= -0.9, gamma=0.3, theta=0.06, ka=1,n=5000,r=0):\n",
        "    delta = T/n\n",
        "    deltaW1 = np.random.normal(0,np.sqrt(delta),(m,n))\n",
        "    deltaW2 = np.random.normal(0,np.sqrt(delta),(m,n))\n",
        "    V = np.zeros((m,n+1))\n",
        "    V[:,0] = sigma_0\n",
        "    S = np.zeros((m,n+1))\n",
        "    S[:,0] = F0\n",
        "    for i in range(n):\n",
        "       V[:,i+1] = np.maximum(V[:,i]+ka*(theta-V[:,i])*delta+gamma*np.sqrt(V[:,i])*deltaW2[:,i],0)\n",
        "       S[:,i+1] = S[:,i]+ np.sqrt(V[:,i])*S[:,i]*(np.sqrt(1-rho**2)*deltaW1[:,i]+rho*deltaW2[:,i])\n",
        "    mc = S[:,n]\n",
        "    mc = np.maximum(mc-K,0)\n",
        "    price = np.mean(mc)\n",
        "    price_std = np.std(mc)/np.sqrt(m)\n",
        "    lo = price - norm.ppf(0.975)*price_std\n",
        "    hi = price + norm.ppf(0.975)*price_std\n",
        "    return (price,lo,hi,price_std)"
      ],
      "metadata": {
        "id": "c_gIFtdIKy0w"
      },
      "id": "c_gIFtdIKy0w",
      "execution_count": null,
      "outputs": []
    },
    {
      "cell_type": "code",
      "source": [
        "m = 2000\n",
        "T = 1\n",
        "F0 = 100\n",
        "K = 100\n",
        "sigma_0 = 0.04\n",
        "t1 = time()\n",
        "cmcOptionPrice(T, m, F0, K,sigma_0 )\n",
        "print('Time to get call option price: {} seconds'.format(round((time() - t1), 5)))\n"
      ],
      "metadata": {
        "colab": {
          "base_uri": "https://localhost:8080/"
        },
        "id": "h08CfluNKkmU",
        "outputId": "38edbe70-3d56-43f7-82e2-327d6b7a14c7"
      },
      "id": "h08CfluNKkmU",
      "execution_count": null,
      "outputs": [
        {
          "output_type": "stream",
          "name": "stdout",
          "text": [
            "Time to get call option price: 1.82003 seconds\n"
          ]
        }
      ]
    },
    {
      "cell_type": "markdown",
      "source": [
        "##Willard's Formula\n",
        "Let us price a call option:\n",
        "$$V_{T}=E\\lbrack(S_{T}-K)_{+}\\rbrack$$\n",
        "Notice that\n",
        "\\begin{align*}\n",
        "S_{T}&=S_{0}\\exp\\left(-\\frac{1}{2}\\int_{0}^{T}\\sigma_{s}^{2}ds+\\int_{0}^{T}\\sigma_{s}(\\sqrt{1-\\rho^{2}}B_{s}+\\rho W_{s})\\right)\\\\&=S_{0}\\exp\\left(-\\frac{1}{2}(\\bar{\\sigma_{p}^{2}}T+\\rho^{2}\\int_{0}^{T}\\sigma_{s}^{2}ds)\\right)\\times\\exp(\\sqrt{1-\\rho^{2}}\\int_{0}^{T}\\sigma_{s}dB_{s}+\\rho\\int_{0}^{T}\\sigma_{s}dW_{s})\n",
        "\\end{align*}\n",
        "where $\\bar{\\sigma_{\\rho}}^{2}=\\frac{1}{T}\\left(\\int_{0}^{T}\\sigma_{s}^{2}ds-\\rho^{2}\\int_{0}^{T}\\sigma_{s}^{2}ds\\right)$.We assume that $\\xi=\\exp(\\rho\\int_{0}^{T}\\sigma_{s}dW_{s}-\\frac{1}{2}\\rho^{2}\\int_{0}^{T}\\sigma_{s}^{2}ds)$. Then we can write $S_{T}$ as \n",
        "$$S_{T}=S_{0}\\xi\\exp(-\\frac{1}{2}\\bar{\\sigma_{\\rho}}^{2}T+\\sqrt{1-\\rho^{2}}\\int_{0}^{T}\\sigma_{s}dB_{s} )$$\n",
        "Note that $\\sqrt{1-\\rho^{2}}\\int_{0}^{T}\\sigma_{s}dB_{s}=N(0,\\bar{\\sigma_{p}}^{2}T)$\n",
        "$$S_{T}=S_{0}\\xi\\exp(-\\frac{1}{2}\\bar{\\sigma_{p}}^{2}T+\\bar{\\sigma_{p}}\\sqrt{T}N(0,1))$$\n",
        "That is, $S_{T}$ can be seen (conditioned to $W$) as a process with deterministric volatility given by $\\bar{\\sigma_{\\rho}}$ \n",
        "and the initial asset price is $S_{0}\\xi$\n",
        "By the Law of Iterated Expectations, we can re-write $V_{T}$ as \n",
        "\\begin{align*}\n",
        "V_{T}&=E\\lbrack E\\lbrack (S_{T}-K)_{+}|W_{t}\\rbrack\\rbrack\\\\\n",
        "&=E\\lbrack BS(S_{0}\\xi,K,\\bar{\\sigma_{p}}^{2},T)\\rbrack\n",
        "\\end{align*}\n",
        "\n",
        "\n",
        "To implement the Monte Carlo simulation, the discretization for the volatility is the first step and given by \n",
        "$$\\sigma_{t_{i}}^{2}=\\max({\\sigma_{t_{i-1}}^{2}}+\\kappa(\\theta-\\sigma_{t_{i-1}}^{2})\\Delta t+\\xi\\sqrt{\\sigma_{t_{i-1}}^{2}}\\Delta W_{i-1},0)$$\n",
        "\n",
        "We take $S_{0}=K=100,T=1$ and $\\kappa=1,\\theta=0.09, \\sigma_{0}=0.2,\\xi=0.3,\\rho=-0.5,n=5000$ in the simulation. \n",
        "\n"
      ],
      "metadata": {
        "id": "GGkri_7v4EY3"
      },
      "id": "GGkri_7v4EY3"
    },
    {
      "cell_type": "markdown",
      "source": [
        "##Improved conditional Monte Carlo (O(max(m,n))) "
      ],
      "metadata": {
        "id": "ri_14NyMYYHm"
      },
      "id": "ri_14NyMYYHm"
    },
    {
      "cell_type": "code",
      "source": [
        "def BlackScholes(F0, K, sigma, T, r=0):\n",
        "    d1 = (np.log(F0 / K) + sigma**2 / 2 * T) / (sigma * np.sqrt(T))\n",
        "    d2 = d1 - sigma * np.sqrt(T)\n",
        "    BSprice = np.exp(-r * T) * (F0 *  ss.norm.cdf(d1) - K * ss.norm.cdf(d2))\n",
        "    return(BSprice)\n",
        "\n",
        "def mcOptionPrice(Z,T, m, F0, K,sigma_0,rho=-0.9, gamma=0.3, theta=0.1, ka=1,n=5000,r=0):\n",
        "        OptionPrice = 0\n",
        "        volatility_swap = 0\n",
        "        variance_swap = 0\n",
        "        adjustment = 0\n",
        "        sigmasquare = np.zeros((m,n+1))\n",
        "        sigmasquare[:,0] = sigma_0\n",
        "        sigmasquare_integral = np.array([])\n",
        "        for j in range(0,n):\n",
        "             sigmasquare[:,j+1] = np.maximum(sigmasquare[:,j]+ka*(theta-sigmasquare[:,j])*T/n+gamma*np.sqrt(sigmasquare[:,j])*Z[:,j],0)\n",
        "        # stochastic volatility compute from the GBM from 0 to T\n",
        "        # integral approximation as finite sums\n",
        "        for i in range(0,m):\n",
        "             deterministic_integral = np.sum(sigmasquare[i,0:-1])*T/n       # 1/n := constant time step, then 1/n = t(i+1)-t(i) for all i \n",
        "             sigmasquare_integral = np.append(sigmasquare_integral,deterministic_integral)\n",
        "             stochastic_integral    = np.dot(np.sqrt(sigmasquare[i,0:-1]),Z[i,:])   \n",
        "             ksi_0 = np.exp(rho*stochastic_integral-0.5*rho**2*deterministic_integral)    \n",
        "             sigma_rho = np.sqrt((1/T)*(1-rho**2)*deterministic_integral)\n",
        "             OptionPrice +=BlackScholes(F0 * ksi_0,K,sigma_rho,T)/m    \n",
        "             volatility_swap+= np.sqrt(deterministic_integral/T)/m\n",
        "             variance_swap+=deterministic_integral/(T*m)\n",
        "        adjustment = np.var(sigmasquare_integral)/8/(math.pow(variance_swap,3/2))\n",
        "        return  OptionPrice,volatility_swap,variance_swap, adjustment"
      ],
      "metadata": {
        "id": "nMCMsH5-4yCC"
      },
      "id": "nMCMsH5-4yCC",
      "execution_count": null,
      "outputs": []
    },
    {
      "cell_type": "code",
      "source": [
        " n = 5000\n",
        " T = 0.0001\n",
        " m = 10000\n",
        " Z = np.random.normal(0,np.sqrt(T/n),[m,n])\n",
        " F0 = 100\n",
        " K = 100\n",
        " sigma_0 = 0.05\n",
        " t2 = time()\n",
        " mcprice, vol,var2,ad = mcOptionPrice(Z,T, m, F0, K,sigma_0)\n",
        " vol\n",
        " print('Time to get call option price: {} seconds'.format(round((time() - t2), 5)))"
      ],
      "metadata": {
        "colab": {
          "base_uri": "https://localhost:8080/"
        },
        "id": "Rj9cNNjy-U4t",
        "outputId": "59999680-64bb-474b-e8ee-9a36e4dae106"
      },
      "id": "Rj9cNNjy-U4t",
      "execution_count": null,
      "outputs": [
        {
          "output_type": "stream",
          "name": "stdout",
          "text": [
            "Time to get call option price: 8.40826 seconds\n"
          ]
        }
      ]
    },
    {
      "cell_type": "code",
      "source": [
        " mcprice, vol,var2,ad "
      ],
      "metadata": {
        "colab": {
          "base_uri": "https://localhost:8080/"
        },
        "id": "fmjTCt9JTUH6",
        "outputId": "992934cd-4be6-4039-eda4-a6995bd86083"
      },
      "id": "fmjTCt9JTUH6",
      "execution_count": null,
      "outputs": [
        {
          "output_type": "execute_result",
          "data": {
            "text/plain": [
              "(0.08829510520723309,\n",
              " 0.22361791915871315,\n",
              " 0.05000573349596793,\n",
              " 1.6985102389823407e-14)"
            ]
          },
          "metadata": {},
          "execution_count": 195
        }
      ]
    },
    {
      "cell_type": "code",
      "source": [
        "np.sqrt(var2)-vol "
      ],
      "metadata": {
        "colab": {
          "base_uri": "https://localhost:8080/"
        },
        "id": "IfVTFvplp4MT",
        "outputId": "7aa376ff-11e7-45dd-9940-c1e40a044810"
      },
      "id": "IfVTFvplp4MT",
      "execution_count": null,
      "outputs": [
        {
          "output_type": "execute_result",
          "data": {
            "text/plain": [
              "1.698710488856614e-06"
            ]
          },
          "metadata": {},
          "execution_count": 196
        }
      ]
    },
    {
      "cell_type": "markdown",
      "source": [
        "We calculate the $\\E_{t}(\\sigma)=\\sqrt{\\E_{t}(\\frac{1}{T}\\int_{0}^{T}\\sigma_{t}^{2})}$ below"
      ],
      "metadata": {
        "id": "gPxr33sTnghL"
      },
      "id": "gPxr33sTnghL"
    },
    {
      "cell_type": "markdown",
      "source": [
        "Next, we use brent function find the implied volatility"
      ],
      "metadata": {
        "id": "YsE4OTxyqB54"
      },
      "id": "YsE4OTxyqB54"
    },
    {
      "cell_type": "code",
      "source": [
        "vol"
      ],
      "metadata": {
        "colab": {
          "base_uri": "https://localhost:8080/"
        },
        "id": "T-vEUi0rOTUJ",
        "outputId": "8b7041f2-b24f-4b58-ca31-fe5d04f9bd93"
      },
      "id": "T-vEUi0rOTUJ",
      "execution_count": null,
      "outputs": [
        {
          "output_type": "execute_result",
          "data": {
            "text/plain": [
              "0.22362156481031045"
            ]
          },
          "metadata": {},
          "execution_count": 321
        }
      ]
    },
    {
      "cell_type": "code",
      "source": [
        "def nrImplied_Volatility(mcOptionPrice,F0,T,K):\n",
        "    \n",
        "    def f(I0):\n",
        "        f=(BlackScholes(F0,K,I0,T,r=0)-mcOptionPrice)**2\n",
        "        return(f) \n",
        "    \n",
        "    I =optimize.brent(f,brack=(0.001,3))\n",
        "    return(I)"
      ],
      "metadata": {
        "id": "3Vq03tNATG57"
      },
      "id": "3Vq03tNATG57",
      "execution_count": null,
      "outputs": []
    },
    {
      "cell_type": "code",
      "source": [
        " I1 = nrImplied_Volatility(mcprice,F0,T,K)\n",
        " I1"
      ],
      "metadata": {
        "colab": {
          "base_uri": "https://localhost:8080/"
        },
        "id": "B1OvbVcSegm6",
        "outputId": "1a1fca8b-eab8-4533-e089-5d5f78c14e6c"
      },
      "id": "B1OvbVcSegm6",
      "execution_count": null,
      "outputs": [
        {
          "output_type": "execute_result",
          "data": {
            "text/plain": [
              "0.21924696653987175"
            ]
          },
          "metadata": {},
          "execution_count": 322
        }
      ]
    },
    {
      "cell_type": "code",
      "source": [
        "I1-vol\n"
      ],
      "metadata": {
        "colab": {
          "base_uri": "https://localhost:8080/"
        },
        "id": "gupSA1WeQiga",
        "outputId": "c1faca1d-dd2c-4fb1-8b0c-448293734a32"
      },
      "id": "gupSA1WeQiga",
      "execution_count": null,
      "outputs": [
        {
          "output_type": "execute_result",
          "data": {
            "text/plain": [
              "-0.0043745982704387065"
            ]
          },
          "metadata": {},
          "execution_count": 323
        }
      ]
    },
    {
      "cell_type": "markdown",
      "source": [
        "Comparing the implied volatilty we obtained with volatility's mean, the value is close but not equal."
      ],
      "metadata": {
        "id": "eyZfwLjxqOuS"
      },
      "id": "eyZfwLjxqOuS"
    },
    {
      "cell_type": "markdown",
      "source": [
        "#Anithetic conditional Monte Carlo"
      ],
      "metadata": {
        "id": "gTeuIFQ7rDwW"
      },
      "id": "gTeuIFQ7rDwW"
    },
    {
      "cell_type": "code",
      "source": [
        "from scipy.optimize.nonlin import Jacobian\n",
        "def BlackScholes(F0, K, sigma, T, r=0):\n",
        "    d1 = (np.log(F0 / K) + sigma**2 / 2 * T) / (sigma * np.sqrt(T))\n",
        "    d2 = d1 - sigma * np.sqrt(T)\n",
        "    BSprice = np.exp(-r * T) * (F0 *  ss.norm.cdf(d1) - K * ss.norm.cdf(d2))\n",
        "    return(BSprice)\n",
        "\n",
        "def mcOptionPrice1(Z,T, m, F0, K,sigma_0,rho= -0.9, gamma=0.3, theta=0.06, ka=1,n=5000,r=0):\n",
        "        OptionPrice = 0\n",
        "        volatility_swap = 0\n",
        "        variance_swap2 = 0\n",
        "        sigmasquare = np.zeros((m,n+1))\n",
        "        sigmasquare_2 = np.zeros((m,n+1))\n",
        "        sigmasquare[:,0] = sigma_0\n",
        "        sigmasquare_2[:,0] = sigma_0\n",
        "        deltaW2 = -Z\n",
        "        adjustment = 0\n",
        "        sigmasquare_integral = np.array([])\n",
        "        for j in range(0,n):\n",
        "            sigmasquare[:,j+1] = np.maximum(sigmasquare[:,j]+ka*(theta-sigmasquare[:,j])*T/n+gamma*np.sqrt(sigmasquare[:,j])*Z[:,j],0)\n",
        "            sigmasquare_2[:,j+1] = np.maximum(sigmasquare_2[:,j]+ka*(theta-sigmasquare_2[:,j])*T/n+gamma*np.sqrt(sigmasquare_2[:,j])*deltaW2[:,j],0)\n",
        "        # stochastic volatility compute from the GBM from 0 to T\n",
        "        # integral approximation as finite sums \n",
        "        for i in range(0,m):\n",
        "            deterministic_integral = np.sum(sigmasquare[i,0:-1])*T/n       # 1/n := constant time step, then 1/n = t(i+1)-t(i) for all i \n",
        "            sigmasquare_integral = np.append(sigmasquare_integral,deterministic_integral)\n",
        "            stochastic_integral    = np.dot(np.sqrt(sigmasquare[i,0:-1]),Z[i,:])   \n",
        "            ksi_0 = np.exp(rho*stochastic_integral-0.5*rho**2*deterministic_integral)    \n",
        "            sigma_rho = np.sqrt((1/T)*(1-rho**2)*deterministic_integral)\n",
        "            deterministic_integral_2 = np.sum(sigmasquare_2[i,0:-1])*T/n       # 1/n := constant time step, then 1/n = t(i+1)-t(i) for all i \n",
        "            sigmasquare_integral = np.append(sigmasquare_integral,deterministic_integral_2)\n",
        "            stochastic_integral_2    = np.dot(np.sqrt(sigmasquare_2[i,0:-1]),deltaW2[i,:])   \n",
        "            ksi_0_2 = np.exp(rho*stochastic_integral_2-0.5*rho**2*deterministic_integral_2)    \n",
        "            sigma_rho_2 = np.sqrt((1/T)*(1-rho**2)*deterministic_integral_2)\n",
        "            OptionPrice +=(BlackScholes(F0 * ksi_0,K,sigma_rho,T)+BlackScholes(F0 * ksi_0_2,K,sigma_rho_2,T))/(2*m)   \n",
        "            volatility_swap+= np.sqrt(deterministic_integral/T)/(2*m)+np.sqrt(deterministic_integral_2/T)/(2*m)\n",
        "            variance_swap2+=(deterministic_integral/T+deterministic_integral_2/T)/(2*m) \n",
        "        adjustment = np.var(sigmasquare_integral)/8/(math.pow(variance_swap2,3/2))\n",
        "        return  OptionPrice,volatility_swap,variance_swap2,adjustment\n"
      ],
      "metadata": {
        "id": "QV-XjtfMrAMO"
      },
      "id": "QV-XjtfMrAMO",
      "execution_count": null,
      "outputs": []
    },
    {
      "cell_type": "code",
      "source": [
        " m = 10000\n",
        " T = 0.0001\n",
        " n = 5000\n",
        " Z = np.random.normal(0,np.sqrt(T/n),(m,n))\n",
        " F0 = 100\n",
        " K = 100\n",
        " sigma_0 = 0.05\n",
        " t2 = time()\n",
        " mccall_price,vol,var,ad= mcOptionPrice1(Z,T, m, F0, K,sigma_0)\n",
        " #print('Time to get call option price: {} seconds'.format(round((time() - t2), 5)))"
      ],
      "metadata": {
        "id": "4EvGlArwvkNR"
      },
      "id": "4EvGlArwvkNR",
      "execution_count": null,
      "outputs": []
    },
    {
      "cell_type": "code",
      "source": [
        "mccall_price,vol,var,ad"
      ],
      "metadata": {
        "colab": {
          "base_uri": "https://localhost:8080/"
        },
        "id": "gGNUHlJXZSK5",
        "outputId": "d30408ba-8674-4e9c-82ff-a4508e774ab9"
      },
      "id": "gGNUHlJXZSK5",
      "execution_count": null,
      "outputs": [
        {
          "output_type": "execute_result",
          "data": {
            "text/plain": [
              "(0.08912624312485887,\n",
              " 0.22360624084256508,\n",
              " 0.050000498698076504,\n",
              " 1.6720253887067148e-14)"
            ]
          },
          "metadata": {},
          "execution_count": 170
        }
      ]
    },
    {
      "cell_type": "code",
      "source": [
        "np.sqrt(var)-vol"
      ],
      "metadata": {
        "colab": {
          "base_uri": "https://localhost:8080/"
        },
        "id": "rRmCx_DtWSgQ",
        "outputId": "0c8159a7-00dc-48e5-92a7-7d65b38fb5ea"
      },
      "id": "rRmCx_DtWSgQ",
      "execution_count": null,
      "outputs": [
        {
          "output_type": "execute_result",
          "data": {
            "text/plain": [
              "1.6720274326476048e-06"
            ]
          },
          "metadata": {},
          "execution_count": 171
        }
      ]
    },
    {
      "cell_type": "code",
      "source": [
        "vol"
      ],
      "metadata": {
        "colab": {
          "base_uri": "https://localhost:8080/"
        },
        "id": "610wO_tgow3n",
        "outputId": "0ee3e7b0-8057-41f1-bb7d-cb99bb32f3f1"
      },
      "id": "610wO_tgow3n",
      "execution_count": null,
      "outputs": [
        {
          "output_type": "execute_result",
          "data": {
            "text/plain": [
              "0.22360112837174068"
            ]
          },
          "metadata": {},
          "execution_count": 145
        }
      ]
    },
    {
      "cell_type": "code",
      "source": [
        "def nrImplied_Volatility(mcOptionPrice,F0,T,K):\n",
        "    \n",
        "    def f(I0):\n",
        "        f=(BlackScholes(F0,K,I0,T,r=0)-mcOptionPrice)**2\n",
        "        return(f) \n",
        "    \n",
        "    I =optimize.brent(f,brack=(0.001,3))\n",
        "    return(I)"
      ],
      "metadata": {
        "id": "0j7g0SVnoy4c"
      },
      "id": "0j7g0SVnoy4c",
      "execution_count": null,
      "outputs": []
    },
    {
      "cell_type": "code",
      "source": [
        " I1 = nrImplied_Volatility(mccall_price,F0,T,K)\n",
        " I1 - vol"
      ],
      "metadata": {
        "colab": {
          "base_uri": "https://localhost:8080/"
        },
        "id": "WPv8vJ4Eo7kI",
        "outputId": "afd148e4-009f-411e-e119-9f3ed75d550f"
      },
      "id": "WPv8vJ4Eo7kI",
      "execution_count": null,
      "outputs": [
        {
          "output_type": "execute_result",
          "data": {
            "text/plain": [
              "-0.0026124001650709994"
            ]
          },
          "metadata": {},
          "execution_count": 146
        }
      ]
    },
    {
      "cell_type": "code",
      "source": [
        "I1"
      ],
      "metadata": {
        "colab": {
          "base_uri": "https://localhost:8080/"
        },
        "id": "WuRCkp6xHQA3",
        "outputId": "e290e15d-89b7-488f-9e1f-6874c1a0c9e9"
      },
      "id": "WuRCkp6xHQA3",
      "execution_count": null,
      "outputs": [
        {
          "output_type": "execute_result",
          "data": {
            "text/plain": [
              "0.22194940564740437"
            ]
          },
          "metadata": {},
          "execution_count": 127
        }
      ]
    },
    {
      "cell_type": "code",
      "source": [
        "rho= -0.9;\n",
        "ka=1;\n",
        "sigma_0 = 0.05;\n",
        "#T = [0.5,0.4,0.3,0.2,0.1,0.01,0.001,0.0001];\n",
        "a= rho**2*sigma_0**2/98/sigma_0+rho*sigma_0/8;\n",
        "for i in T:\n",
        "  print (a*i);\n",
        "\n"
      ],
      "metadata": {
        "colab": {
          "base_uri": "https://localhost:8080/"
        },
        "id": "D1yFig2xSCzl",
        "outputId": "2c4a5100-e032-4b0f-fd90-ebcf7657452e"
      },
      "id": "D1yFig2xSCzl",
      "execution_count": null,
      "outputs": [
        {
          "output_type": "stream",
          "name": "stdout",
          "text": [
            "-0.002605867346938776\n",
            "-0.002084693877551021\n",
            "-0.0015635204081632654\n",
            "-0.0010423469387755104\n",
            "-0.0005211734693877552\n",
            "-5.211734693877552e-05\n",
            "-5.2117346938775515e-06\n",
            "-5.211734693877552e-07\n"
          ]
        }
      ]
    },
    {
      "cell_type": "markdown",
      "source": [
        "Conditional Monte Carlo of SABR"
      ],
      "metadata": {
        "id": "35KsH9pmthno"
      },
      "id": "35KsH9pmthno"
    },
    {
      "cell_type": "code",
      "source": [
        "def mcOptionPrice_MC_SABR(Z, alpha, sigma_0, rho, T, n, F0, K,m):\n",
        "    OptionPrice = 0\n",
        "    volatility_swap = 0\n",
        "    variance_swap = 0\n",
        "    adjustment = 0\n",
        "    sigmasquare_integral = np.array([])\n",
        "    for i in range(0,m):\n",
        "        Z1 = Z[i,]\n",
        "        t = np.arange(0,T+T/n,T/n)\n",
        "        Z2 = Z1*np.sqrt(T/n)\n",
        "        W2 = np.zeros(n+1)\n",
        "        W2[1:n+1] = np.cumsum(Z2)\n",
        "        sigma = sigma_0*np.exp(-0.5 * alpha**2 * t[0:n+1] + alpha * W2) # stochastic volatility compute from the GBM from 0 to T\n",
        "        # integral approximation as finite sums\n",
        "        deterministic_integral = np.sum(sigma[0:-1]**2)* T / n       # 1/n := constant time step, then 1/n = t(i+1)-t(i) for all i\n",
        "        sigmasquare_integral = np.append(sigmasquare_integral,deterministic_integral)\n",
        "        stochastic_integral    = np.dot(sigma[0:-1],np.diff(W2))   \n",
        "        ksi_0 = np.exp(rho * stochastic_integral - 0.5 * rho**2 * deterministic_integral)    \n",
        "        sigma_rho = np.sqrt(1/T * (1-rho**2) * deterministic_integral)\n",
        "        volatility_swap += np.sqrt(deterministic_integral/T)/m\n",
        "        OptionPrice += BlackScholes(F0 * ksi_0, K, sigma_rho, T)/m    \n",
        "        variance_swap +=deterministic_integral/(T*m)\n",
        "    adjustment = np.var(sigmasquare_integral)/8/(math.pow(variance_swap,3/2))\n",
        "    return(OptionPrice,volatility_swap,variance_swap,adjustment)"
      ],
      "metadata": {
        "id": "Ra2OZhfmq9gA"
      },
      "id": "Ra2OZhfmq9gA",
      "execution_count": null,
      "outputs": []
    },
    {
      "cell_type": "markdown",
      "source": [
        "Anithetic conditional Monte Carlo of SABR"
      ],
      "metadata": {
        "id": "b1MyPvBs94nj"
      },
      "id": "b1MyPvBs94nj"
    },
    {
      "cell_type": "code",
      "source": [
        "def mcOptionPrice_AMC_SABR(Z, alpha, sigma_0, rho, T, n, F0, K,m):\n",
        "    OptionPrice = 0\n",
        "    volatility_swap_SABR = 0\n",
        "    variance_swap_2 = 0\n",
        "    adjustment = 0\n",
        "    sigmasquare_integral = np.array([])\n",
        "    for i in range(0,m):\n",
        "        Z1 = Z[i,]\n",
        "        t = np.arange(0,T+T/n,T/n)\n",
        "        Z2 = Z1*np.sqrt(T/n)\n",
        "        W2 = np.zeros(n+1)\n",
        "        delta_W = np.zeros(n+1)\n",
        "        W2[1:n+1] = np.cumsum(Z2)\n",
        "        delta_W  = -W2\n",
        "        sigma = sigma_0*np.exp(-0.5 * alpha**2 * t[0:n+1] + alpha * W2) # stochastic volatility compute from the GBM from 0 to T\n",
        "        # integral approximation as finite sums\n",
        "        sigma_2 = sigma_0*np.exp(-0.5 * alpha**2 * t[0:n+1] + alpha * delta_W)\n",
        "        deterministic_integral_1 = np.sum(sigma[0:-1]**2)* T / n       # 1/n := constant time step, then 1/n = t(i+1)-t(i) for all i\n",
        "        sigmasquare_integral = np.append(sigmasquare_integral,deterministic_integral_1)\n",
        "        stochastic_integral_1   = np.dot(sigma[0:-1],np.diff(W2))   \n",
        "        deterministic_integral_2= np.sum(sigma_2[0:-1]**2)* T / n       # 1/n := constant time step, then 1/n = t(i+1)-t(i) for all i\n",
        "        sigmasquare_integral = np.append(sigmasquare_integral,deterministic_integral_2)\n",
        "        stochastic_integral_2   = np.dot(sigma_2[0:-1],np.diff(delta_W)) \n",
        "        ksi_0_1 = np.exp(rho * stochastic_integral_1 - 0.5 * rho**2 * deterministic_integral_1) \n",
        "        ksi_0_2 = np.exp(rho * stochastic_integral_2 - 0.5 * rho**2 * deterministic_integral_2)   \n",
        "        sigma_rho_1 = np.sqrt(1/T * (1-rho**2) * deterministic_integral_1)\n",
        "        sigma_rho_2 = np.sqrt(1/T * (1-rho**2) * deterministic_integral_2)\n",
        "        volatility_swap_SABR += np.sqrt(deterministic_integral_1/T)/(2*m)+np.sqrt(deterministic_integral_2/T)/(2*m)\n",
        "        OptionPrice += BlackScholes(F0 * ksi_0_1, K, sigma_rho_1, T)/(2*m)+ BlackScholes(F0 * ksi_0_2, K, sigma_rho_2, T)/(2*m)\n",
        "        variance_swap_2+=(deterministic_integral_1/T+deterministic_integral_2/T)/(2*m)\n",
        "    adjustment = np.var(sigmasquare_integral)/8/(math.pow(variance_swap_2,3/2))\n",
        "    return(OptionPrice,volatility_swap_SABR,variance_swap_2,adjustment)"
      ],
      "metadata": {
        "id": "08AhAmGY92Fs"
      },
      "id": "08AhAmGY92Fs",
      "execution_count": null,
      "outputs": []
    },
    {
      "cell_type": "code",
      "source": [
        "m = 10000\n",
        "n = 10000\n",
        "Z = np.random.normal(0,1,[m,n])\n",
        "rho = -0.6\n",
        "alpha = 0.6\n",
        "sigma_0 = 0.3 # different from Heston model, here sigma value is not sigma square \n",
        "K = 100\n",
        "F0 = 100\n",
        "T = 0.0001\n",
        "mccall_price_SABR_1, vol_1,var_1,ad_1= mcOptionPrice_MC_SABR(Z, alpha, sigma_0, rho, T, n, F0, K,m)\n",
        "mccall_price_SABR_2, vol_2,var_2,ad_2= mcOptionPrice_AMC_SABR(Z, alpha, sigma_0, rho, T, n, F0, K,m)\n"
      ],
      "metadata": {
        "id": "UCZWcC2Q_4Eu"
      },
      "id": "UCZWcC2Q_4Eu",
      "execution_count": null,
      "outputs": []
    },
    {
      "cell_type": "code",
      "source": [
        "mccall_price_SABR_1, vol_1,var_1,ad_1"
      ],
      "metadata": {
        "colab": {
          "base_uri": "https://localhost:8080/"
        },
        "id": "pOQ3unZNl3R2",
        "outputId": "3e51ef9f-5c80-4e8c-ba4e-d2f17ea7503f"
      },
      "id": "pOQ3unZNl3R2",
      "execution_count": null,
      "outputs": [
        {
          "output_type": "execute_result",
          "data": {
            "text/plain": [
              "(0.11891988072956475,\n",
              " 0.300005193292287,\n",
              " 0.09000420350750689,\n",
              " 1.8127558602155507e-14)"
            ]
          },
          "metadata": {},
          "execution_count": 335
        }
      ]
    },
    {
      "cell_type": "code",
      "source": [
        "mccall_price_SABR_2, vol_2,var_2,ad_2"
      ],
      "metadata": {
        "colab": {
          "base_uri": "https://localhost:8080/"
        },
        "id": "R2Z8RVkbl31H",
        "outputId": "71dcb3db-9add-46d0-8024-465de3bf6ae2"
      },
      "id": "R2Z8RVkbl31H",
      "execution_count": null,
      "outputs": [
        {
          "output_type": "execute_result",
          "data": {
            "text/plain": [
              "(0.11986061498014909,\n",
              " 0.30000094055484505,\n",
              " 0.09000165156809069,\n",
              " 1.8121207631465115e-14)"
            ]
          },
          "metadata": {},
          "execution_count": 336
        }
      ]
    },
    {
      "cell_type": "code",
      "source": [
        "np.sqrt(var_1)"
      ],
      "metadata": {
        "colab": {
          "base_uri": "https://localhost:8080/"
        },
        "id": "Pdfo4277LBq0",
        "outputId": "03b6a35b-700a-4f7f-984e-d35afc9c7a96"
      },
      "id": "Pdfo4277LBq0",
      "execution_count": null,
      "outputs": [
        {
          "output_type": "execute_result",
          "data": {
            "text/plain": [
              "0.3000070057640436"
            ]
          },
          "metadata": {},
          "execution_count": 337
        }
      ]
    },
    {
      "cell_type": "code",
      "source": [
        "np.sqrt(var_2)"
      ],
      "metadata": {
        "colab": {
          "base_uri": "https://localhost:8080/"
        },
        "id": "SHZyc52zLev6",
        "outputId": "c8f65a9f-4848-412d-b825-fba15ee2e619"
      },
      "id": "SHZyc52zLev6",
      "execution_count": null,
      "outputs": [
        {
          "output_type": "execute_result",
          "data": {
            "text/plain": [
              "0.30000275260085646"
            ]
          },
          "metadata": {},
          "execution_count": 338
        }
      ]
    },
    {
      "cell_type": "markdown",
      "source": [
        "implied volatility of SABR model"
      ],
      "metadata": {
        "id": "xYlA6YkOEUXD"
      },
      "id": "xYlA6YkOEUXD"
    },
    {
      "cell_type": "code",
      "source": [
        "I_1 = nrImplied_Volatility(mccall_price_SABR_1,F0,T,K)\n",
        "I_2=nrImplied_Volatility(mccall_price_SABR_2,F0,T,K)\n",
        "I_1-vol_1,I_2-vol_2\n"
      ],
      "metadata": {
        "colab": {
          "base_uri": "https://localhost:8080/"
        },
        "id": "DNAGhOdgES44",
        "outputId": "d64bbf39-2ff9-438f-d88f-76070a9ee746"
      },
      "id": "DNAGhOdgES44",
      "execution_count": null,
      "outputs": [
        {
          "output_type": "execute_result",
          "data": {
            "text/plain": [
              "(-0.0019171474774493658, 0.0004451789713685872)"
            ]
          },
          "metadata": {},
          "execution_count": 339
        }
      ]
    },
    {
      "cell_type": "code",
      "source": [
        "I_1,I_2"
      ],
      "metadata": {
        "colab": {
          "base_uri": "https://localhost:8080/"
        },
        "id": "CgHrYgM-mXea",
        "outputId": "a8e4d4fa-585f-4964-eeea-0b7e3712a844"
      },
      "id": "CgHrYgM-mXea",
      "execution_count": null,
      "outputs": [
        {
          "output_type": "execute_result",
          "data": {
            "text/plain": [
              "(0.2978257354356695, 0.2993216146142442)"
            ]
          },
          "metadata": {},
          "execution_count": 309
        }
      ]
    },
    {
      "cell_type": "code",
      "source": [
        "0.01296*0.0001\n"
      ],
      "metadata": {
        "colab": {
          "base_uri": "https://localhost:8080/"
        },
        "id": "S1FoJ7n0sySb",
        "outputId": "69c759f7-f74e-40de-ea77-5b8bef2e0996"
      },
      "id": "S1FoJ7n0sySb",
      "execution_count": null,
      "outputs": [
        {
          "output_type": "execute_result",
          "data": {
            "text/plain": [
              "1.296e-06"
            ]
          },
          "metadata": {},
          "execution_count": 322
        }
      ]
    }
  ],
  "metadata": {
    "kernelspec": {
      "display_name": "Python 3 (ipykernel)",
      "language": "python",
      "name": "python3"
    },
    "language_info": {
      "codemirror_mode": {
        "name": "ipython",
        "version": 3
      },
      "file_extension": ".py",
      "mimetype": "text/x-python",
      "name": "python",
      "nbconvert_exporter": "python",
      "pygments_lexer": "ipython3",
      "version": "3.9.7"
    },
    "colab": {
      "name": "master_project.ipynb",
      "provenance": [],
      "include_colab_link": true
    }
  },
  "nbformat": 4,
  "nbformat_minor": 5
}