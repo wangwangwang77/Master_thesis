{
  "cells": [
    {
      "cell_type": "markdown",
      "metadata": {
        "id": "view-in-github",
        "colab_type": "text"
      },
      "source": [
        "<a href=\"https://colab.research.google.com/github/wangwangwang77/Master_thesis/blob/main/master_project.ipynb\" target=\"_parent\"><img src=\"https://colab.research.google.com/assets/colab-badge.svg\" alt=\"Open In Colab\"/></a>"
      ]
    },
    {
      "cell_type": "code",
      "execution_count": 8,
      "id": "46ef425e",
      "metadata": {
        "id": "46ef425e"
      },
      "outputs": [],
      "source": [
        "import math\n",
        "import random\n",
        "import numpy as np\n",
        "import seaborn as sns\n",
        "import matplotlib.pyplot as plt\n",
        "import matplotlib._color_data as mcd\n",
        "import matplotlib.patches as mpatch\n",
        "from scipy.stats import norm\n",
        "import scipy.stats as ss\n",
        "from functools import reduce\n",
        "from time import time\n",
        "from scipy import optimize"
      ]
    },
    {
      "cell_type": "markdown",
      "source": [
        "##Heston Model\n",
        "The Heston Model is a stochastic volatility model whose time evolution is given by the following system of stochastic differential equations:\n",
        "$$dS_{t}=rS_{t}dt+\\sigma_{t}S_{t}dZ_{t} $$ \n",
        "$$d\\sigma_{t}^{2}=\\kappa(\\theta-\\sigma_{t}^{2})dt+\\nu\\sqrt{\\sigma_{t}^{2}}dB_{t}$$\n",
        "$\\rho\\neq0$ denotes the correlation parameter between Brownian motion $Z$ and $B$. In our simulation, we assume $r=0$. \n",
        "We rewrite $Z_{t}$ as:\n",
        "$$Z_{t}=\\sqrt{1-\\rho^{2}}B_{t}+\\rho W_{t}$$\n",
        "where $B_{t}$ and $Z_{t}$ are independent brownian motion and the Heston Model can be written as:\n",
        "$$dS_{t}=S_{t}\\sigma_{t}(\\sqrt{1-\\rho^{2}}B_{t}+\\rho W_{t})$$"
      ],
      "metadata": {
        "id": "404giFHjwkmY"
      },
      "id": "404giFHjwkmY"
    },
    {
      "cell_type": "markdown",
      "source": [
        "#Crude Monte Carlo\n",
        "We implement discretization schemes for both the stock and the volatility. Thess dynamics looks as follows:\n",
        "\\begin{align*}\n",
        "\\sigma_{i}^{2}&=\\kappa(\\theta-\\sigma_{i}^{2})\\Delta t+\\xi\\sqrt{\\sigma_{i-1}^{2}}\\Delta W\\\\\n",
        "S_{i}&=S_{i-1}+\\sqrt{\\sigma_{i-1}^{2}}S_{i-1}(\\sqrt{1-\\rho^{2}}\\Delta B+\\rho\\Delta W)\n",
        "\\end{align*}\n",
        "We want to find the call option price:\n",
        "$$E[\\max(S_{T}-K)]$$\n",
        "\n",
        "\n",
        "\n",
        "\n"
      ],
      "metadata": {
        "id": "P2fj3iySp73y"
      },
      "id": "P2fj3iySp73y"
    },
    {
      "cell_type": "code",
      "source": [
        "from scipy.stats import norm\n",
        "def cmcOptionPrice(T, m, F0, K,sigma_0,rho= -0.5, gamma=0.3, theta=0.09, ka=1,n=5000,r=0):\n",
        "    delta = T/n\n",
        "    deltaW1 = np.random.normal(0,np.sqrt(delta),(m,n))\n",
        "    deltaW2 = np.random.normal(0,np.sqrt(delta),(m,n))\n",
        "    V = np.zeros((m,n+1))\n",
        "    V[:,0] = sigma_0\n",
        "    S = np.zeros((m,n+1))\n",
        "    S[:,0] = F0\n",
        "    for i in range(n):\n",
        "       V[:,i+1] = np.maximum(V[:,i]+ka*(theta-V[:,i])*delta+gamma*np.sqrt(V[:,i])*deltaW2[:,i],0)\n",
        "       S[:,i+1] = S[:,i]+ np.sqrt(V[:,i])*S[:,i]*(np.sqrt(1-rho**2)*deltaW1[:,i]+rho*deltaW2[:,i])\n",
        "    mc = S[:,n]\n",
        "    mc = np.maximum(mc-K,0)\n",
        "    price = np.mean(mc)\n",
        "    price_std = np.std(mc)/np.sqrt(m)\n",
        "    lo = price - norm.ppf(0.975)*price_std\n",
        "    hi = price + norm.ppf(0.975)*price_std\n",
        "    return (price,lo,hi)\n",
        " "
      ],
      "metadata": {
        "id": "c_gIFtdIKy0w"
      },
      "id": "c_gIFtdIKy0w",
      "execution_count": null,
      "outputs": []
    },
    {
      "cell_type": "code",
      "source": [
        "m = 2000\n",
        "T = 1\n",
        "F0 = 100\n",
        "K = 100\n",
        "sigma_0 = 0.04\n",
        "t1 = time()\n",
        "cmcOptionPrice(T, m, F0, K,sigma_0 )\n",
        "#print('Time to get call option price: {} seconds'.format(round((time() - t1), 5)))\n"
      ],
      "metadata": {
        "colab": {
          "base_uri": "https://localhost:8080/"
        },
        "id": "h08CfluNKkmU",
        "outputId": "7882a757-73c7-4dbd-856c-92d6dd79dbb3"
      },
      "id": "h08CfluNKkmU",
      "execution_count": null,
      "outputs": [
        {
          "output_type": "execute_result",
          "data": {
            "text/plain": [
              "(9.46129684408267, 8.847613876149756, 10.074979812015583)"
            ]
          },
          "metadata": {},
          "execution_count": 87
        }
      ]
    },
    {
      "cell_type": "markdown",
      "source": [
        "##Willard's Formula\n",
        "Let us price a call option:\n",
        "$$V_{T}=E\\lbrack(S_{T}-K)_{+}\\rbrack$$\n",
        "Notice that\n",
        "\\begin{align*}\n",
        "S_{T}&=S_{0}\\exp\\left(-\\frac{1}{2}\\int_{0}^{T}\\sigma_{s}^{2}ds+\\int_{0}^{T}\\sigma_{s}(\\sqrt{1-\\rho^{2}}B_{s}+\\rho W_{s})\\right)\\\\&=S_{0}\\exp\\left(-\\frac{1}{2}(\\bar{\\sigma_{p}^{2}}T+\\rho^{2}\\int_{0}^{T}\\sigma_{s}^{2}ds)\\right)\\times\\exp(\\sqrt{1-\\rho^{2}}\\int_{0}^{T}\\sigma_{s}dB_{s}+\\rho\\int_{0}^{T}\\sigma_{s}dW_{s})\n",
        "\\end{align*}\n",
        "where $\\bar{\\sigma_{\\rho}}^{2}=\\frac{1}{T}\\left(\\int_{0}^{T}\\sigma_{s}^{2}ds-\\rho^{2}\\int_{0}^{T}\\sigma_{s}^{2}ds\\right)$.We assume that $\\xi=\\exp(\\rho\\int_{0}^{T}\\sigma_{s}dW_{s}-\\frac{1}{2}\\rho^{2}\\int_{0}^{T}\\sigma_{s}^{2}ds)$. Then we can write $S_{T}$ as \n",
        "$$S_{T}=S_{0}\\xi\\exp(-\\frac{1}{2}\\bar{\\sigma_{\\rho}}^{2}T+\\sqrt{1-\\rho^{2}}\\int_{0}^{T}\\sigma_{s}dB_{s} )$$\n",
        "Note that $\\sqrt{1-\\rho^{2}}\\int_{0}^{T}\\sigma_{s}dB_{s}=N(0,\\bar{\\sigma_{p}}^{2}T)$\n",
        "$$S_{T}=S_{0}\\xi\\exp(-\\frac{1}{2}\\bar{\\sigma_{p}}^{2}T+\\bar{\\sigma_{p}}\\sqrt{T}N(0,1))$$\n",
        "That is, $S_{T}$ can be seen (conditioned to $W$) as a process with deterministric volatility given by $\\bar{\\sigma_{\\rho}}$ \n",
        "and the initial asset price is $S_{0}\\xi$\n",
        "By the Law of Iterated Expectations, we can re-write $V_{T}$ as \n",
        "\\begin{align*}\n",
        "V_{T}&=E\\lbrack E\\lbrack (S_{T}-K)_{+}|W_{t}\\rbrack\\rbrack\\\\\n",
        "&=E\\lbrack BS(S_{0}\\xi,K,\\bar{\\sigma_{p}}^{2},T)\\rbrack\n",
        "\\end{align*}\n",
        "\n",
        "\n",
        "To implement the Monte Carlo simulation, the discretization for the volatility is the first step and given by \n",
        "$$\\sigma_{t_{i}}^{2}=\\max({\\sigma_{t_{i-1}}^{2}}+\\kappa(\\theta-\\sigma_{t_{i-1}}^{2})\\Delta t+\\xi\\sqrt{\\sigma_{t_{i-1}}^{2}}\\Delta W_{i-1},0)$$\n",
        "\n",
        "We take $S_{0}=K=100,T=1$ and $\\kappa=1,\\theta=0.09, \\sigma_{0}=0.2,\\xi=0.3,\\rho=-0.5,n=5000$ in the simulation. \n",
        "\n"
      ],
      "metadata": {
        "id": "GGkri_7v4EY3"
      },
      "id": "GGkri_7v4EY3"
    },
    {
      "cell_type": "markdown",
      "source": [
        "##Improved conditional Monte Carlo (O(max(m,n))) "
      ],
      "metadata": {
        "id": "ri_14NyMYYHm"
      },
      "id": "ri_14NyMYYHm"
    },
    {
      "cell_type": "code",
      "source": [
        "def BlackScholes(F0, K, sigma, T, r=0):\n",
        "    d1 = (np.log(F0 / K) + sigma**2 / 2 * T) / (sigma * np.sqrt(T))\n",
        "    d2 = d1 - sigma * np.sqrt(T)\n",
        "    BSprice = np.exp(-r * T) * (F0 *  ss.norm.cdf(d1) - K * ss.norm.cdf(d2))\n",
        "    return(BSprice)\n",
        "\n",
        "def mcOptionPrice(Z,T, m, F0, K,sigma_0,rho= -0.5, gamma=0.3, theta=0.09, ka=1,n=5000,r=0):\n",
        "        OptionPrice = 0\n",
        "        volatility_integral = 0\n",
        "        sigmasquare = np.zeros((m,n+1))\n",
        "        sigmasquare[:,0] = sigma_0\n",
        "        for j in range(0,n):\n",
        "            sigmasquare[:,j+1] = np.maximum(sigmasquare[:,j]+ka*(theta-sigmasquare[:,j])*T/n+gamma*np.sqrt(sigmasquare[:,j])*Z[:,j],0)\n",
        "        # stochastic volatility compute from the GBM from 0 to T\n",
        "        # integral approximation as finite sums\n",
        "        for i in range(0,m):\n",
        "            deterministic_integral = np.sum(sigmasquare[i,0:-1])*T/n       # 1/n := constant time step, then 1/n = t(i+1)-t(i) for all i \n",
        "            stochastic_integral    = np.dot(np.sqrt(sigmasquare[i,0:-1]),Z[i,:])   \n",
        "            ksi_0 = np.exp(rho*stochastic_integral-0.5*rho**2*deterministic_integral)    \n",
        "            sigma_rho = np.sqrt((1/T)*(1-rho**2)*deterministic_integral)\n",
        "            OptionPrice +=BlackScholes(F0 * ksi_0,K,sigma_rho,T)/m    \n",
        "            volatility_integral += deterministic_integral/(T*m)\n",
        "        return  OptionPrice,volatility_integral \n"
      ],
      "metadata": {
        "id": "nMCMsH5-4yCC"
      },
      "id": "nMCMsH5-4yCC",
      "execution_count": 14,
      "outputs": []
    },
    {
      "cell_type": "code",
      "source": [
        " n = 5000\n",
        " T = 1\n",
        " m = 2000\n",
        " Z = np.random.normal(0,np.sqrt(T/n),[m,n])\n",
        " F0 = 100\n",
        " K = 100\n",
        " sigma_0 = 0.09\n",
        " t2 = time()\n",
        " mccall_price, vol= mcOptionPrice(Z,T, m, F0, K,sigma_0)\n",
        " vol\n",
        " #print('Time to get call option price: {} seconds'.format(round((time() - t2), 5)))"
      ],
      "metadata": {
        "colab": {
          "base_uri": "https://localhost:8080/"
        },
        "id": "Rj9cNNjy-U4t",
        "outputId": "9e732835-95e9-4152-b27a-b30f18a7c7a6"
      },
      "id": "Rj9cNNjy-U4t",
      "execution_count": 49,
      "outputs": [
        {
          "output_type": "execute_result",
          "data": {
            "text/plain": [
              "0.09141084447794218"
            ]
          },
          "metadata": {},
          "execution_count": 49
        }
      ]
    },
    {
      "cell_type": "code",
      "source": [
        "mccall_price"
      ],
      "metadata": {
        "colab": {
          "base_uri": "https://localhost:8080/"
        },
        "id": "IfVTFvplp4MT",
        "outputId": "4f35bde1-7c00-4d5e-c91b-50bcb461bc45"
      },
      "id": "IfVTFvplp4MT",
      "execution_count": 91,
      "outputs": [
        {
          "output_type": "execute_result",
          "data": {
            "text/plain": [
              "11.430229655846697"
            ]
          },
          "metadata": {},
          "execution_count": 91
        }
      ]
    },
    {
      "cell_type": "markdown",
      "source": [
        "We calculate the $\\E(\\sigma)=\\sqrt{\\E(\\frac{1}{T}\\int_{0}^{T}\\sigma_{t}^{2})}$ below"
      ],
      "metadata": {
        "id": "gPxr33sTnghL"
      },
      "id": "gPxr33sTnghL"
    },
    {
      "cell_type": "code",
      "source": [
        "np.sqrt(vol)"
      ],
      "metadata": {
        "colab": {
          "base_uri": "https://localhost:8080/"
        },
        "id": "d2SGNxTVkV0I",
        "outputId": "a25b9fb1-f07e-45bb-ab4d-0139afdecc0b"
      },
      "id": "d2SGNxTVkV0I",
      "execution_count": 92,
      "outputs": [
        {
          "output_type": "execute_result",
          "data": {
            "text/plain": [
              "0.30234226379707846"
            ]
          },
          "metadata": {},
          "execution_count": 92
        }
      ]
    },
    {
      "cell_type": "markdown",
      "source": [
        "Next, we use brent function find the implied volatility"
      ],
      "metadata": {
        "id": "YsE4OTxyqB54"
      },
      "id": "YsE4OTxyqB54"
    },
    {
      "cell_type": "code",
      "source": [
        "def nrImplied_Volatility(mcOptionPrice,F0,T,K):\n",
        "    \n",
        "    def f(I0):\n",
        "        f=(BlackScholes(F0,K,I0,T,r=0)-mcOptionPrice)**2\n",
        "        return(f) \n",
        "    \n",
        "    I =optimize.brent(f,brack=(0.001,3))\n",
        "    return(I)"
      ],
      "metadata": {
        "id": "3Vq03tNATG57"
      },
      "id": "3Vq03tNATG57",
      "execution_count": 86,
      "outputs": []
    },
    {
      "cell_type": "code",
      "source": [
        " I1 = nrImplied_Volatility(mccall_price,F0,T,K)\n",
        " I1"
      ],
      "metadata": {
        "colab": {
          "base_uri": "https://localhost:8080/"
        },
        "id": "B1OvbVcSegm6",
        "outputId": "2c246fcb-6509-45ba-a5e3-500f2ec7c8d2"
      },
      "id": "B1OvbVcSegm6",
      "execution_count": 88,
      "outputs": [
        {
          "output_type": "execute_result",
          "data": {
            "text/plain": [
              "0.2875004635896945"
            ]
          },
          "metadata": {},
          "execution_count": 88
        }
      ]
    },
    {
      "cell_type": "markdown",
      "source": [
        "Comparing the implied volatilty we obtained with volatility's mean, the value is close but not equal."
      ],
      "metadata": {
        "id": "eyZfwLjxqOuS"
      },
      "id": "eyZfwLjxqOuS"
    }
  ],
  "metadata": {
    "kernelspec": {
      "display_name": "Python 3 (ipykernel)",
      "language": "python",
      "name": "python3"
    },
    "language_info": {
      "codemirror_mode": {
        "name": "ipython",
        "version": 3
      },
      "file_extension": ".py",
      "mimetype": "text/x-python",
      "name": "python",
      "nbconvert_exporter": "python",
      "pygments_lexer": "ipython3",
      "version": "3.9.7"
    },
    "colab": {
      "name": "master_project.ipynb",
      "provenance": [],
      "include_colab_link": true
    }
  },
  "nbformat": 4,
  "nbformat_minor": 5
}