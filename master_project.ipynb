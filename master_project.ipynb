{
  "cells": [
    {
      "cell_type": "markdown",
      "metadata": {
        "id": "view-in-github",
        "colab_type": "text"
      },
      "source": [
        "<a href=\"https://colab.research.google.com/github/wangwangwang77/Master_thesis/blob/main/master_project.ipynb\" target=\"_parent\"><img src=\"https://colab.research.google.com/assets/colab-badge.svg\" alt=\"Open In Colab\"/></a>"
      ]
    },
    {
      "cell_type": "code",
      "execution_count": null,
      "id": "46ef425e",
      "metadata": {
        "id": "46ef425e"
      },
      "outputs": [],
      "source": [
        "import math\n",
        "import random\n",
        "import numpy as np\n",
        "import seaborn as sns\n",
        "import matplotlib.pyplot as plt\n",
        "import matplotlib._color_data as mcd\n",
        "import matplotlib.patches as mpatch\n",
        "from scipy.stats import norm\n",
        "import scipy.stats as ss\n",
        "from functools import reduce\n",
        "from time import time\n",
        "from scipy import optimize"
      ]
    },
    {
      "cell_type": "markdown",
      "source": [
        "##Heston Model\n",
        "The Heston Model is a stochastic volatility model whose time evolution is given by the following system of stochastic differential equations:\n",
        "$$dS_{t}=rS_{t}dt+\\sigma_{t}S_{t}dZ_{t} $$ \n",
        "$$d\\sigma_{t}^{2}=\\kappa(\\theta-\\sigma_{t}^{2})dt+\\nu\\sqrt{\\sigma_{t}^{2}}dB_{t}$$\n",
        "$\\rho\\neq0$ denotes the correlation parameter between Brownian motion $Z$ and $B$. In our simulation, we assume $r=0$. \n",
        "We rewrite $Z_{t}$ as:\n",
        "$$Z_{t}=\\sqrt{1-\\rho^{2}}B_{t}+\\rho W_{t}$$\n",
        "where $B_{t}$ and $Z_{t}$ are independent brownian motion and the Heston Model can be written as:\n",
        "$$dS_{t}=S_{t}\\sigma_{t}(\\sqrt{1-\\rho^{2}}B_{t}+\\rho W_{t})$$"
      ],
      "metadata": {
        "id": "404giFHjwkmY"
      },
      "id": "404giFHjwkmY"
    },
    {
      "cell_type": "markdown",
      "source": [
        "#Crude Monte Carlo\n",
        "We implement discretization schemes for both the stock and the volatility. Thess dynamics looks as follows:\n",
        "\\begin{align*}\n",
        "\\sigma_{i}^{2}&=\\kappa(\\theta-\\sigma_{i}^{2})\\Delta t+\\xi\\sqrt{\\sigma_{i-1}^{2}}\\Delta W\\\\\n",
        "S_{i}&=S_{i-1}+\\sqrt{\\sigma_{i-1}^{2}}S_{i-1}(\\sqrt{1-\\rho^{2}}\\Delta B+\\rho\\Delta W)\n",
        "\\end{align*}\n",
        "We want to find the call option price:\n",
        "$$E[\\max(S_{T}-K)]$$\n",
        "\n",
        "\n",
        "\n",
        "\n"
      ],
      "metadata": {
        "id": "P2fj3iySp73y"
      },
      "id": "P2fj3iySp73y"
    },
    {
      "cell_type": "code",
      "source": [
        "from scipy.stats import norm\n",
        "def cmcOptionPrice(T, m, F0, K,sigma_0,rho= -0.5, gamma=0.3, theta=0.09, ka=1,n=5000,r=0):\n",
        "    delta = T/n\n",
        "    deltaW1 = np.random.normal(0,np.sqrt(delta),(m,n))\n",
        "    deltaW2 = np.random.normal(0,np.sqrt(delta),(m,n))\n",
        "    V = np.zeros((m,n+1))\n",
        "    V[:,0] = sigma_0\n",
        "    S = np.zeros((m,n+1))\n",
        "    S[:,0] = F0\n",
        "    for i in range(n):\n",
        "       V[:,i+1] = np.maximum(V[:,i]+ka*(theta-V[:,i])*delta+gamma*np.sqrt(V[:,i])*deltaW2[:,i],0)\n",
        "       S[:,i+1] = S[:,i]+ np.sqrt(V[:,i])*S[:,i]*(np.sqrt(1-rho**2)*deltaW1[:,i]+rho*deltaW2[:,i])\n",
        "    mc = S[:,n]\n",
        "    mc = np.maximum(mc-K,0)\n",
        "    price = np.mean(mc)\n",
        "    price_std = np.std(mc)/np.sqrt(m)\n",
        "    lo = price - norm.ppf(0.975)*price_std\n",
        "    hi = price + norm.ppf(0.975)*price_std\n",
        "    return (price,lo,hi,price_std)"
      ],
      "metadata": {
        "id": "c_gIFtdIKy0w"
      },
      "id": "c_gIFtdIKy0w",
      "execution_count": 81,
      "outputs": []
    },
    {
      "cell_type": "code",
      "source": [
        "m = 2000\n",
        "T = 1\n",
        "F0 = 100\n",
        "K = 100\n",
        "sigma_0 = 0.04\n",
        "t1 = time()\n",
        "cmcOptionPrice(T, m, F0, K,sigma_0 )\n",
        "print('Time to get call option price: {} seconds'.format(round((time() - t1), 5)))\n"
      ],
      "metadata": {
        "colab": {
          "base_uri": "https://localhost:8080/"
        },
        "id": "h08CfluNKkmU",
        "outputId": "ac775200-7686-49d4-8c8d-0779b9f30c99"
      },
      "id": "h08CfluNKkmU",
      "execution_count": 83,
      "outputs": [
        {
          "output_type": "stream",
          "name": "stdout",
          "text": [
            "Time to get call option price: 3.38133 seconds\n"
          ]
        }
      ]
    },
    {
      "cell_type": "markdown",
      "source": [
        "##Willard's Formula\n",
        "Let us price a call option:\n",
        "$$V_{T}=E\\lbrack(S_{T}-K)_{+}\\rbrack$$\n",
        "Notice that\n",
        "\\begin{align*}\n",
        "S_{T}&=S_{0}\\exp\\left(-\\frac{1}{2}\\int_{0}^{T}\\sigma_{s}^{2}ds+\\int_{0}^{T}\\sigma_{s}(\\sqrt{1-\\rho^{2}}B_{s}+\\rho W_{s})\\right)\\\\&=S_{0}\\exp\\left(-\\frac{1}{2}(\\bar{\\sigma_{p}^{2}}T+\\rho^{2}\\int_{0}^{T}\\sigma_{s}^{2}ds)\\right)\\times\\exp(\\sqrt{1-\\rho^{2}}\\int_{0}^{T}\\sigma_{s}dB_{s}+\\rho\\int_{0}^{T}\\sigma_{s}dW_{s})\n",
        "\\end{align*}\n",
        "where $\\bar{\\sigma_{\\rho}}^{2}=\\frac{1}{T}\\left(\\int_{0}^{T}\\sigma_{s}^{2}ds-\\rho^{2}\\int_{0}^{T}\\sigma_{s}^{2}ds\\right)$.We assume that $\\xi=\\exp(\\rho\\int_{0}^{T}\\sigma_{s}dW_{s}-\\frac{1}{2}\\rho^{2}\\int_{0}^{T}\\sigma_{s}^{2}ds)$. Then we can write $S_{T}$ as \n",
        "$$S_{T}=S_{0}\\xi\\exp(-\\frac{1}{2}\\bar{\\sigma_{\\rho}}^{2}T+\\sqrt{1-\\rho^{2}}\\int_{0}^{T}\\sigma_{s}dB_{s} )$$\n",
        "Note that $\\sqrt{1-\\rho^{2}}\\int_{0}^{T}\\sigma_{s}dB_{s}=N(0,\\bar{\\sigma_{p}}^{2}T)$\n",
        "$$S_{T}=S_{0}\\xi\\exp(-\\frac{1}{2}\\bar{\\sigma_{p}}^{2}T+\\bar{\\sigma_{p}}\\sqrt{T}N(0,1))$$\n",
        "That is, $S_{T}$ can be seen (conditioned to $W$) as a process with deterministric volatility given by $\\bar{\\sigma_{\\rho}}$ \n",
        "and the initial asset price is $S_{0}\\xi$\n",
        "By the Law of Iterated Expectations, we can re-write $V_{T}$ as \n",
        "\\begin{align*}\n",
        "V_{T}&=E\\lbrack E\\lbrack (S_{T}-K)_{+}|W_{t}\\rbrack\\rbrack\\\\\n",
        "&=E\\lbrack BS(S_{0}\\xi,K,\\bar{\\sigma_{p}}^{2},T)\\rbrack\n",
        "\\end{align*}\n",
        "\n",
        "\n",
        "To implement the Monte Carlo simulation, the discretization for the volatility is the first step and given by \n",
        "$$\\sigma_{t_{i}}^{2}=\\max({\\sigma_{t_{i-1}}^{2}}+\\kappa(\\theta-\\sigma_{t_{i-1}}^{2})\\Delta t+\\xi\\sqrt{\\sigma_{t_{i-1}}^{2}}\\Delta W_{i-1},0)$$\n",
        "\n",
        "We take $S_{0}=K=100,T=1$ and $\\kappa=1,\\theta=0.09, \\sigma_{0}=0.2,\\xi=0.3,\\rho=-0.5,n=5000$ in the simulation. \n",
        "\n"
      ],
      "metadata": {
        "id": "GGkri_7v4EY3"
      },
      "id": "GGkri_7v4EY3"
    },
    {
      "cell_type": "markdown",
      "source": [
        "##Improved conditional Monte Carlo (O(max(m,n))) "
      ],
      "metadata": {
        "id": "ri_14NyMYYHm"
      },
      "id": "ri_14NyMYYHm"
    },
    {
      "cell_type": "code",
      "source": [
        "def BlackScholes(F0, K, sigma, T, r=0):\n",
        "    d1 = (np.log(F0 / K) + sigma**2 / 2 * T) / (sigma * np.sqrt(T))\n",
        "    d2 = d1 - sigma * np.sqrt(T)\n",
        "    BSprice = np.exp(-r * T) * (F0 *  ss.norm.cdf(d1) - K * ss.norm.cdf(d2))\n",
        "    return(BSprice)\n",
        "\n",
        "def mcOptionPrice(Z,T, m, F0, K,sigma_0,rho= -0.5, gamma=0.3, theta=0.09, ka=1,n=5000,r=0):\n",
        "        OptionPrice = 0\n",
        "        volatility_integral = 0\n",
        "        sigmasquare = np.zeros((m,n+1))\n",
        "        sigmasquare[:,0] = sigma_0\n",
        "        for j in range(0,n):\n",
        "            sigmasquare[:,j+1] = np.maximum(sigmasquare[:,j]+ka*(theta-sigmasquare[:,j])*T/n+gamma*np.sqrt(sigmasquare[:,j])*Z[:,j],0)\n",
        "        # stochastic volatility compute from the GBM from 0 to T\n",
        "        # integral approximation as finite sums\n",
        "        for i in range(0,m):\n",
        "            deterministic_integral = np.sum(sigmasquare[i,0:-1])*T/n       # 1/n := constant time step, then 1/n = t(i+1)-t(i) for all i \n",
        "            stochastic_integral    = np.dot(np.sqrt(sigmasquare[i,0:-1]),Z[i,:])   \n",
        "            ksi_0 = np.exp(rho*stochastic_integral-0.5*rho**2*deterministic_integral)    \n",
        "            sigma_rho = np.sqrt((1/T)*(1-rho**2)*deterministic_integral)\n",
        "            OptionPrice +=BlackScholes(F0 * ksi_0,K,sigma_rho,T)/m    \n",
        "            volatility_integral += deterministic_integral/(T*m)\n",
        "        return  OptionPrice,volatility_integral \n"
      ],
      "metadata": {
        "id": "nMCMsH5-4yCC"
      },
      "id": "nMCMsH5-4yCC",
      "execution_count": 91,
      "outputs": []
    },
    {
      "cell_type": "code",
      "source": [
        " n = 5000\n",
        " T = 1\n",
        " m = 2000\n",
        " Z = np.random.normal(0,np.sqrt(T/n),[m,n])\n",
        " F0 = 100\n",
        " K = 100\n",
        " sigma_0 = 0.09\n",
        " t2 = time()\n",
        " mccall_price, vol= mcOptionPrice(Z,T, m, F0, K,sigma_0)\n",
        " vol\n",
        " print('Time to get call option price: {} seconds'.format(round((time() - t2), 5)))"
      ],
      "metadata": {
        "colab": {
          "base_uri": "https://localhost:8080/"
        },
        "id": "Rj9cNNjy-U4t",
        "outputId": "db489bd9-6bde-4b65-f823-7953bcc92d1b"
      },
      "id": "Rj9cNNjy-U4t",
      "execution_count": 92,
      "outputs": [
        {
          "output_type": "stream",
          "name": "stdout",
          "text": [
            "Time to get call option price: 1.59719 seconds\n"
          ]
        }
      ]
    },
    {
      "cell_type": "code",
      "source": [
        "mccall_price"
      ],
      "metadata": {
        "colab": {
          "base_uri": "https://localhost:8080/"
        },
        "id": "IfVTFvplp4MT",
        "outputId": "ad861715-55db-407f-fc5c-07820bcf8253"
      },
      "id": "IfVTFvplp4MT",
      "execution_count": null,
      "outputs": [
        {
          "output_type": "execute_result",
          "data": {
            "text/plain": [
              "11.507107412580257"
            ]
          },
          "metadata": {},
          "execution_count": 56
        }
      ]
    },
    {
      "cell_type": "markdown",
      "source": [
        "We calculate the $\\E_{t}(\\sigma)=\\sqrt{\\E_{t}(\\frac{1}{T}\\int_{0}^{T}\\sigma_{t}^{2})}$ below"
      ],
      "metadata": {
        "id": "gPxr33sTnghL"
      },
      "id": "gPxr33sTnghL"
    },
    {
      "cell_type": "code",
      "source": [
        "np.sqrt(vol)"
      ],
      "metadata": {
        "colab": {
          "base_uri": "https://localhost:8080/"
        },
        "id": "d2SGNxTVkV0I",
        "outputId": "b54e17ec-1ae6-4900-92c1-53d64bed43f5"
      },
      "id": "d2SGNxTVkV0I",
      "execution_count": null,
      "outputs": [
        {
          "output_type": "execute_result",
          "data": {
            "text/plain": [
              "0.3015073890629552"
            ]
          },
          "metadata": {},
          "execution_count": 57
        }
      ]
    },
    {
      "cell_type": "markdown",
      "source": [
        "Next, we use brent function find the implied volatility"
      ],
      "metadata": {
        "id": "YsE4OTxyqB54"
      },
      "id": "YsE4OTxyqB54"
    },
    {
      "cell_type": "code",
      "source": [
        "def nrImplied_Volatility(mcOptionPrice,F0,T,K):\n",
        "    \n",
        "    def f(I0):\n",
        "        f=(BlackScholes(F0,K,I0,T,r=0)-mcOptionPrice)**2\n",
        "        return(f) \n",
        "    \n",
        "    I =optimize.brent(f,brack=(0.001,3))\n",
        "    return(I)"
      ],
      "metadata": {
        "id": "3Vq03tNATG57"
      },
      "id": "3Vq03tNATG57",
      "execution_count": null,
      "outputs": []
    },
    {
      "cell_type": "code",
      "source": [
        " I1 = nrImplied_Volatility(mccall_price,F0,T,K)\n",
        " I1"
      ],
      "metadata": {
        "colab": {
          "base_uri": "https://localhost:8080/"
        },
        "id": "B1OvbVcSegm6",
        "outputId": "45be0ecb-6ecf-4d93-e659-d99d5a96cc89"
      },
      "id": "B1OvbVcSegm6",
      "execution_count": null,
      "outputs": [
        {
          "output_type": "execute_result",
          "data": {
            "text/plain": [
              "0.2894476562603696"
            ]
          },
          "metadata": {},
          "execution_count": 59
        }
      ]
    },
    {
      "cell_type": "markdown",
      "source": [
        "Comparing the implied volatilty we obtained with volatility's mean, the value is close but not equal."
      ],
      "metadata": {
        "id": "eyZfwLjxqOuS"
      },
      "id": "eyZfwLjxqOuS"
    },
    {
      "cell_type": "markdown",
      "source": [
        "#Anithetic Monte Carlo"
      ],
      "metadata": {
        "id": "Z6tnR3byr5Py"
      },
      "id": "Z6tnR3byr5Py"
    },
    {
      "cell_type": "code",
      "source": [
        "def cmcOptionPrice(T, m, F0, K,sigma_0,rho= -0.5, gamma=0.3, theta=0.09, ka=1,n=5000,r=0):\n",
        "    delta = T/n\n",
        "    deltaW1 = np.random.normal(0,np.sqrt(delta),(m,n))\n",
        "    deltaW2 = np.random.normal(0,np.sqrt(delta),(m,n))\n",
        "    Z = -deltaW2\n",
        "    V = np.zeros((m,n+1))\n",
        "    V[:,0] = sigma_0\n",
        "    S1 = np.zeros((m,n+1))\n",
        "    S1[:,0] = F0\n",
        "    S2 = np.zeros((m,n+1))\n",
        "    S2[:,0] = F0\n",
        "    mc = np.zeros((m,1))\n",
        "    price = 0\n",
        "    for i in range(n):\n",
        "        V[:,i+1] = np.maximum(V[:,i]+ka*(theta-V[:,i])*delta+gamma*np.sqrt(V[:,i])*deltaW2[:,i],0)\n",
        "        S1[:,i+1] = S1[:,i] + np.sqrt(V[:,i])*S1[:,i]*(np.sqrt(1-rho**2)*deltaW1[:,i]+rho*deltaW2[:,i])\n",
        "        S2[:,i+1] = S2[:,i]+ np.sqrt(V[:,i])*S2[:,i]*(np.sqrt(1-rho**2)*deltaW1[:,i]+rho*Z[:,i])\n",
        "    mc = (np.maximum(S1[:,n]-K,0)+np.maximum(S2[:,n]-K,0))*0.5\n",
        "    price = np.mean(mc)\n",
        "    price_std = np.std(mc)/np.sqrt(m)\n",
        "    lo = price - norm.ppf(0.975)*price_std\n",
        "    hi = price + norm.ppf(0.975)*price_std\n",
        "    return  price,lo,hi,price_std"
      ],
      "metadata": {
        "id": "gdNo3ytKq0z8"
      },
      "id": "gdNo3ytKq0z8",
      "execution_count": 74,
      "outputs": []
    },
    {
      "cell_type": "code",
      "source": [
        "m = 2000\n",
        "T = 1\n",
        "F0 = 100\n",
        "K = 100\n",
        "sigma_0 = 0.04\n",
        "t1 = time()\n",
        "cmcOptionPrice(T, m, F0, K,sigma_0)\n",
        "#print('Time to get call option price: {} seconds'.format(round((time() - t1), 5)))"
      ],
      "metadata": {
        "colab": {
          "base_uri": "https://localhost:8080/"
        },
        "id": "vwcBTeFStZvm",
        "outputId": "e9296820-4c24-4016-afb5-0acfdc552cfa"
      },
      "id": "vwcBTeFStZvm",
      "execution_count": 90,
      "outputs": [
        {
          "output_type": "execute_result",
          "data": {
            "text/plain": [
              "(9.518901429525092, 8.890158190469966, 10.147644668580218, 0.3207932615163203)"
            ]
          },
          "metadata": {},
          "execution_count": 90
        }
      ]
    },
    {
      "cell_type": "markdown",
      "source": [
        "#Anithetic conditional Monte Carlo"
      ],
      "metadata": {
        "id": "gTeuIFQ7rDwW"
      },
      "id": "gTeuIFQ7rDwW"
    },
    {
      "cell_type": "code",
      "source": [
        "def BlackScholes_2(S0,K,sigma,T,n=5000):\n",
        "    delta = T/n \n",
        "    a = S0\n",
        "    a2 = S0\n",
        "    S = 0\n",
        "    Z = np.random.normal(0,np.sqrt(delta),n)\n",
        "    inv_Z = -Z\n",
        "    for i in range(n):\n",
        "        a = a*np.exp((-(sigma**2)/2)*delta + sigma*Z[i])\n",
        "        a2 = a2*np.exp((-(sigma**2)/2)*delta + sigma*inv_Z[i])\n",
        "    S = (np.maximum(a-K,0)+np.maximum(a2-K,0))/2\n",
        "    return (S)\n",
        "\n",
        "def mcOptionPrice(Z,T, m, F0, K,sigma_0,rho= -0.5, gamma=0.3, theta=0.09, ka=1,n=5000,r=0):\n",
        "        OptionPrice = 0\n",
        "        volatility_integral = 0\n",
        "        sigmasquare = np.zeros((m,n+1))\n",
        "        sigmasquare[:,0] = sigma_0\n",
        "        for j in range(0,n):\n",
        "            sigmasquare[:,j+1] = np.maximum(sigmasquare[:,j]+ka*(theta-sigmasquare[:,j])*T/n+gamma*np.sqrt(sigmasquare[:,j])*Z[:,j],0)\n",
        "        # stochastic volatility compute from the GBM from 0 to T\n",
        "        # integral approximation as finite sums\n",
        "        for i in range(0,m):\n",
        "            deterministic_integral = np.sum(sigmasquare[i,0:-1])*T/n       # 1/n := constant time step, then 1/n = t(i+1)-t(i) for all i \n",
        "            stochastic_integral    = np.dot(np.sqrt(sigmasquare[i,0:-1]),Z[i,:])   \n",
        "            ksi_0 = np.exp(rho*stochastic_integral-0.5*rho**2*deterministic_integral)    \n",
        "            sigma_rho = np.sqrt((1/T)*(1-rho**2)*deterministic_integral)\n",
        "            OptionPrice +=BlackScholes_2(F0 * ksi_0,K,sigma_rho,T)/m    \n",
        "            volatility_integral += deterministic_integral/(T*m)\n",
        "        return  OptionPrice"
      ],
      "metadata": {
        "id": "QV-XjtfMrAMO"
      },
      "id": "QV-XjtfMrAMO",
      "execution_count": 85,
      "outputs": []
    },
    {
      "cell_type": "code",
      "source": [
        " m = 2000\n",
        " T = 1\n",
        " n = 5000\n",
        " Z = np.random.normal(0,np.sqrt(T/n),(m,n))\n",
        " F0 = 100\n",
        " K = 100\n",
        " sigma_0 = 0.04\n",
        " t2 = time()\n",
        " mccall_price= mcOptionPrice(Z,T, m, F0, K,sigma_0)\n",
        " mccall_price\n",
        " #print('Time to get call option price: {} seconds'.format(round((time() - t2), 5)))"
      ],
      "metadata": {
        "colab": {
          "base_uri": "https://localhost:8080/"
        },
        "id": "4EvGlArwvkNR",
        "outputId": "b19fd37e-a10c-422c-8c39-8899798d383d"
      },
      "id": "4EvGlArwvkNR",
      "execution_count": 88,
      "outputs": [
        {
          "output_type": "execute_result",
          "data": {
            "text/plain": [
              "9.112176394177231"
            ]
          },
          "metadata": {},
          "execution_count": 88
        }
      ]
    },
    {
      "cell_type": "code",
      "source": [
        "import pandas as pd\n",
        "data = [[\"Crude Monte Carlo\",\"3.4 sec\",\"9.176\",\"0.305\"],[\"Conditional Monte Carlo\",\"1.6 sec\",\"9.226\",\"\"],[\"Anithetic Monte Carlo\",\"3.9 sec\",\"9.201\",\"0.314\"],[\"Anithetic conditional Monte Carlo\",\"60.9 sec\",\"9.193\",\"\"]]\n",
        "df = pd.DataFrame(data=data # list形式的表格数据\n",
        "\t             ,index=[1,2,3,4]  # 构建索引\n",
        "\t             ,columns=[\"\",\"time\",\"option price\",\"std\"])\n",
        "df"
      ],
      "metadata": {
        "colab": {
          "base_uri": "https://localhost:8080/",
          "height": 175
        },
        "id": "7_vn2wz6Nror",
        "outputId": "060eb86c-1aef-42be-d215-232af9615df6"
      },
      "id": "7_vn2wz6Nror",
      "execution_count": 98,
      "outputs": [
        {
          "output_type": "execute_result",
          "data": {
            "text/plain": [
              "                                          time option price    std\n",
              "1                  Crude Monte Carlo   3.4 sec        9.176  0.305\n",
              "2            Conditional Monte Carlo   1.6 sec        9.226       \n",
              "3              Anithetic Monte Carlo   3.9 sec        9.201  0.314\n",
              "4  Anithetic conditional Monte Carlo  60.9 sec        9.193       "
            ],
            "text/html": [
              "\n",
              "  <div id=\"df-e41381f4-4f95-47e5-a1a7-4e00b0a67197\">\n",
              "    <div class=\"colab-df-container\">\n",
              "      <div>\n",
              "<style scoped>\n",
              "    .dataframe tbody tr th:only-of-type {\n",
              "        vertical-align: middle;\n",
              "    }\n",
              "\n",
              "    .dataframe tbody tr th {\n",
              "        vertical-align: top;\n",
              "    }\n",
              "\n",
              "    .dataframe thead th {\n",
              "        text-align: right;\n",
              "    }\n",
              "</style>\n",
              "<table border=\"1\" class=\"dataframe\">\n",
              "  <thead>\n",
              "    <tr style=\"text-align: right;\">\n",
              "      <th></th>\n",
              "      <th></th>\n",
              "      <th>time</th>\n",
              "      <th>option price</th>\n",
              "      <th>std</th>\n",
              "    </tr>\n",
              "  </thead>\n",
              "  <tbody>\n",
              "    <tr>\n",
              "      <th>1</th>\n",
              "      <td>Crude Monte Carlo</td>\n",
              "      <td>3.4 sec</td>\n",
              "      <td>9.176</td>\n",
              "      <td>0.305</td>\n",
              "    </tr>\n",
              "    <tr>\n",
              "      <th>2</th>\n",
              "      <td>Conditional Monte Carlo</td>\n",
              "      <td>1.6 sec</td>\n",
              "      <td>9.226</td>\n",
              "      <td></td>\n",
              "    </tr>\n",
              "    <tr>\n",
              "      <th>3</th>\n",
              "      <td>Anithetic Monte Carlo</td>\n",
              "      <td>3.9 sec</td>\n",
              "      <td>9.201</td>\n",
              "      <td>0.314</td>\n",
              "    </tr>\n",
              "    <tr>\n",
              "      <th>4</th>\n",
              "      <td>Anithetic conditional Monte Carlo</td>\n",
              "      <td>60.9 sec</td>\n",
              "      <td>9.193</td>\n",
              "      <td></td>\n",
              "    </tr>\n",
              "  </tbody>\n",
              "</table>\n",
              "</div>\n",
              "      <button class=\"colab-df-convert\" onclick=\"convertToInteractive('df-e41381f4-4f95-47e5-a1a7-4e00b0a67197')\"\n",
              "              title=\"Convert this dataframe to an interactive table.\"\n",
              "              style=\"display:none;\">\n",
              "        \n",
              "  <svg xmlns=\"http://www.w3.org/2000/svg\" height=\"24px\"viewBox=\"0 0 24 24\"\n",
              "       width=\"24px\">\n",
              "    <path d=\"M0 0h24v24H0V0z\" fill=\"none\"/>\n",
              "    <path d=\"M18.56 5.44l.94 2.06.94-2.06 2.06-.94-2.06-.94-.94-2.06-.94 2.06-2.06.94zm-11 1L8.5 8.5l.94-2.06 2.06-.94-2.06-.94L8.5 2.5l-.94 2.06-2.06.94zm10 10l.94 2.06.94-2.06 2.06-.94-2.06-.94-.94-2.06-.94 2.06-2.06.94z\"/><path d=\"M17.41 7.96l-1.37-1.37c-.4-.4-.92-.59-1.43-.59-.52 0-1.04.2-1.43.59L10.3 9.45l-7.72 7.72c-.78.78-.78 2.05 0 2.83L4 21.41c.39.39.9.59 1.41.59.51 0 1.02-.2 1.41-.59l7.78-7.78 2.81-2.81c.8-.78.8-2.07 0-2.86zM5.41 20L4 18.59l7.72-7.72 1.47 1.35L5.41 20z\"/>\n",
              "  </svg>\n",
              "      </button>\n",
              "      \n",
              "  <style>\n",
              "    .colab-df-container {\n",
              "      display:flex;\n",
              "      flex-wrap:wrap;\n",
              "      gap: 12px;\n",
              "    }\n",
              "\n",
              "    .colab-df-convert {\n",
              "      background-color: #E8F0FE;\n",
              "      border: none;\n",
              "      border-radius: 50%;\n",
              "      cursor: pointer;\n",
              "      display: none;\n",
              "      fill: #1967D2;\n",
              "      height: 32px;\n",
              "      padding: 0 0 0 0;\n",
              "      width: 32px;\n",
              "    }\n",
              "\n",
              "    .colab-df-convert:hover {\n",
              "      background-color: #E2EBFA;\n",
              "      box-shadow: 0px 1px 2px rgba(60, 64, 67, 0.3), 0px 1px 3px 1px rgba(60, 64, 67, 0.15);\n",
              "      fill: #174EA6;\n",
              "    }\n",
              "\n",
              "    [theme=dark] .colab-df-convert {\n",
              "      background-color: #3B4455;\n",
              "      fill: #D2E3FC;\n",
              "    }\n",
              "\n",
              "    [theme=dark] .colab-df-convert:hover {\n",
              "      background-color: #434B5C;\n",
              "      box-shadow: 0px 1px 3px 1px rgba(0, 0, 0, 0.15);\n",
              "      filter: drop-shadow(0px 1px 2px rgba(0, 0, 0, 0.3));\n",
              "      fill: #FFFFFF;\n",
              "    }\n",
              "  </style>\n",
              "\n",
              "      <script>\n",
              "        const buttonEl =\n",
              "          document.querySelector('#df-e41381f4-4f95-47e5-a1a7-4e00b0a67197 button.colab-df-convert');\n",
              "        buttonEl.style.display =\n",
              "          google.colab.kernel.accessAllowed ? 'block' : 'none';\n",
              "\n",
              "        async function convertToInteractive(key) {\n",
              "          const element = document.querySelector('#df-e41381f4-4f95-47e5-a1a7-4e00b0a67197');\n",
              "          const dataTable =\n",
              "            await google.colab.kernel.invokeFunction('convertToInteractive',\n",
              "                                                     [key], {});\n",
              "          if (!dataTable) return;\n",
              "\n",
              "          const docLinkHtml = 'Like what you see? Visit the ' +\n",
              "            '<a target=\"_blank\" href=https://colab.research.google.com/notebooks/data_table.ipynb>data table notebook</a>'\n",
              "            + ' to learn more about interactive tables.';\n",
              "          element.innerHTML = '';\n",
              "          dataTable['output_type'] = 'display_data';\n",
              "          await google.colab.output.renderOutput(dataTable, element);\n",
              "          const docLink = document.createElement('div');\n",
              "          docLink.innerHTML = docLinkHtml;\n",
              "          element.appendChild(docLink);\n",
              "        }\n",
              "      </script>\n",
              "    </div>\n",
              "  </div>\n",
              "  "
            ]
          },
          "metadata": {},
          "execution_count": 98
        }
      ]
    }
  ],
  "metadata": {
    "kernelspec": {
      "display_name": "Python 3 (ipykernel)",
      "language": "python",
      "name": "python3"
    },
    "language_info": {
      "codemirror_mode": {
        "name": "ipython",
        "version": 3
      },
      "file_extension": ".py",
      "mimetype": "text/x-python",
      "name": "python",
      "nbconvert_exporter": "python",
      "pygments_lexer": "ipython3",
      "version": "3.9.7"
    },
    "colab": {
      "name": "master_project.ipynb",
      "provenance": [],
      "include_colab_link": true
    }
  },
  "nbformat": 4,
  "nbformat_minor": 5
}